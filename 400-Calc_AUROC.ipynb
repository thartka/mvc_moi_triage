{
 "cells": [
  {
   "cell_type": "markdown",
   "metadata": {},
   "source": [
    "## Project: Estimation of accuracy of MOI for MVCs \n",
    "Created by: Thomas Hartka, MD, MSDS  \n",
    "Date created: 1/15/22\n",
    "  \n",
    "This notebook analyzes determines the AUC for the existing MOI criteria for early (2000-2009) and late (2010-2019) decades."
   ]
  },
  {
   "cell_type": "code",
   "execution_count": 1,
   "metadata": {},
   "outputs": [],
   "source": [
    "import numpy as np\n",
    "import pandas as pd\n",
    "from sklearn.linear_model import LogisticRegression\n",
    "from sklearn import metrics\n",
    "import scipy.stats as st\n",
    "import matplotlib.pyplot as plt\n",
    "from itertools import combinations\n",
    "import datetime\n",
    "from multiprocessing import Process, Queue\n",
    "import multiprocessing\n",
    "import moi_analysis as moi"
   ]
  },
  {
   "cell_type": "markdown",
   "metadata": {},
   "source": [
    "## Parameters"
   ]
  },
  {
   "cell_type": "code",
   "execution_count": 2,
   "metadata": {},
   "outputs": [],
   "source": [
    "mvcs_data_file = \"../Data/NASS_CISS-2000_2019-unfiltered.csv\"\n",
    "mvcs_imp_data_file = \"../Data/NASS_CISS-2000_2019-imputated.csv\""
   ]
  },
  {
   "cell_type": "code",
   "execution_count": 3,
   "metadata": {},
   "outputs": [],
   "source": [
    "use_imputed = True  # whether to use imputed or raw data\n",
    "bootstrap_div = 5   # divisor of full sample len for bootstrapped sample\n",
    "bootstrap_num = 1000   # number of bootstrapped samples"
   ]
  },
  {
   "cell_type": "code",
   "execution_count": 4,
   "metadata": {},
   "outputs": [],
   "source": [
    "# column names\n",
    "outcome = 'iss16'\n",
    "existing_cit = ['int12occ','int18','ejection','other_death']\n",
    "case_weights = 'casewgt'"
   ]
  },
  {
   "cell_type": "markdown",
   "metadata": {},
   "source": [
    "## Read in data"
   ]
  },
  {
   "cell_type": "code",
   "execution_count": 5,
   "metadata": {},
   "outputs": [],
   "source": [
    "if use_imputed:\n",
    "    # use imputated data set\n",
    "    mvcs = pd.read_csv(mvcs_imp_data_file)\n",
    "\n",
    "else:\n",
    "    # use unimputed data set\n",
    "    mvcs = pd.read_csv(mvcs_data_file)"
   ]
  },
  {
   "cell_type": "code",
   "execution_count": 6,
   "metadata": {},
   "outputs": [],
   "source": [
    "# separate crashes by decade\n",
    "mvcs_2000_2009 = mvcs[mvcs.year<=2009].copy()\n",
    "mvcs_2010_2019 = mvcs[mvcs.year>=2010].copy()"
   ]
  },
  {
   "cell_type": "code",
   "execution_count": 10,
   "metadata": {},
   "outputs": [],
   "source": [
    "# separate crashes by decade\n",
    "mvcs_2000_2009 = mvcs[mvcs.year<=2009].copy()\n",
    "mvcs_2010_2019 = mvcs[mvcs.year>=2010].copy()"
   ]
  },
  {
   "cell_type": "markdown",
   "metadata": {},
   "source": [
    "## Calculate bootstrapped estimates"
   ]
  },
  {
   "cell_type": "code",
   "execution_count": 11,
   "metadata": {},
   "outputs": [],
   "source": [
    "# set seed for reproducibility\n",
    "np.random.seed(42)"
   ]
  },
  {
   "cell_type": "code",
   "execution_count": 12,
   "metadata": {},
   "outputs": [],
   "source": [
    "# calculate size of each bootstrap sample\n",
    "sample_size = round(len(mvcs)/bootstrap_div)"
   ]
  },
  {
   "cell_type": "code",
   "execution_count": 13,
   "metadata": {},
   "outputs": [
    {
     "name": "stdout",
     "output_type": "stream",
     "text": [
      "Sample:  0  of  1000\n",
      "Sample:  100  of  1000\n",
      "Sample:  200  of  1000\n",
      "Sample:  300  of  1000\n",
      "Sample:  400  of  1000\n",
      "Sample:  500  of  1000\n",
      "Sample:  600  of  1000\n",
      "Sample:  700  of  1000\n",
      "Sample:  800  of  1000\n",
      "Sample:  900  of  1000\n",
      "CPU times: user 8min 32s, sys: 1min 12s, total: 9min 45s\n",
      "Wall time: 9min 11s\n"
     ]
    }
   ],
   "source": [
    "%%time\n",
    "# calcuate results for 2000-2009\n",
    "res_early = moi.auc_bootstrap(mvcs_2000_2009, existing_cit, outcome, sample_size, bootstrap_num, verbose=True)"
   ]
  },
  {
   "cell_type": "code",
   "execution_count": 14,
   "metadata": {},
   "outputs": [
    {
     "name": "stdout",
     "output_type": "stream",
     "text": [
      "Sample:  0  of  1000\n",
      "Sample:  100  of  1000\n",
      "Sample:  200  of  1000\n",
      "Sample:  300  of  1000\n",
      "Sample:  400  of  1000\n",
      "Sample:  500  of  1000\n",
      "Sample:  600  of  1000\n",
      "Sample:  700  of  1000\n",
      "Sample:  800  of  1000\n",
      "Sample:  900  of  1000\n",
      "CPU times: user 8min 7s, sys: 32.1 s, total: 8min 39s\n",
      "Wall time: 8min 5s\n"
     ]
    }
   ],
   "source": [
    "%%time\n",
    "# calcuate results for 2010-2019\n",
    "res_late = moi.auc_bootstrap(mvcs_2010_2019, existing_cit, outcome, sample_size, bootstrap_num, verbose=True)"
   ]
  },
  {
   "cell_type": "code",
   "execution_count": 15,
   "metadata": {},
   "outputs": [],
   "source": [
    "# get median and 95% CI\n",
    "med_early, ci_early = moi.med_ci(res_early)\n",
    "med_late, ci_late = moi.med_ci(res_late)"
   ]
  },
  {
   "cell_type": "markdown",
   "metadata": {},
   "source": [
    "## Plot ROC curse"
   ]
  },
  {
   "cell_type": "code",
   "execution_count": 20,
   "metadata": {},
   "outputs": [
    {
     "data": {
      "text/plain": [
       "<matplotlib.legend.Legend at 0x7f4869e30da0>"
      ]
     },
     "execution_count": 20,
     "metadata": {},
     "output_type": "execute_result"
    },
    {
     "data": {
      "image/png": "[encoded data removed]",
      "text/plain": [
       "<Figure size 576x432 with 1 Axes>"
      ]
     },
     "metadata": {},
     "output_type": "display_data"
    }
   ],
   "source": [
    "# plot probablity distributions\n",
    "sig_dig = 2\n",
    "bin_num = 20\n",
    "\n",
    "ax = plt.figure(0)\n",
    "\n",
    "# add results for early (2000-2009)\n",
    "plt.hist(res_early, alpha=0.5, color='black',  hatch='\\\\\\\\',bins=bin_num, \\\n",
    "         label=\"2000-2009, auc=\"+str(round(med_early,sig_dig))+\" [95% CI: \"+str(round(ci_early[0],sig_dig))+\\\n",
    "         \"-\"+str(round(ci_early[1],sig_dig))+\"]\")\n",
    "\n",
    "# add results for early (2010-2019)\n",
    "plt.hist(res_late, alpha=0.5, color='dimgrey', hatch='//',bins=bin_num, \\\n",
    "         label=\"2010-2019, auc=\"+str(round(med_late,sig_dig))+\" [95% CI: \"+str(round(ci_late[0],sig_dig))+\\\n",
    "         \"-\"+str(round(ci_late[1],sig_dig))+\"]\")\n",
    "\n",
    "# zoom in on up-slope of ROC curve\n",
    "plt.xlim(0.72,0.795)\n",
    "plt.ylim(0,160)\n",
    "\n",
    "ax.set_size_inches(8,6)\n",
    "\n",
    "plt.legend(loc='upper right')"
   ]
  },
  {
   "cell_type": "code",
   "execution_count": 17,
   "metadata": {},
   "outputs": [
    {
     "data": {
      "text/plain": [
       "MannwhitneyuResult(statistic=41951.0, pvalue=6.782169325546255e-276)"
      ]
     },
     "execution_count": 17,
     "metadata": {},
     "output_type": "execute_result"
    }
   ],
   "source": [
    "# test for signfic\n",
    "st.mannwhitneyu(res_early, res_late)"
   ]
  },
  {
   "cell_type": "markdown",
   "metadata": {},
   "source": [
    "## Plot ROC "
   ]
  },
  {
   "cell_type": "code",
   "execution_count": 18,
   "metadata": {},
   "outputs": [
    {
     "name": "stdout",
     "output_type": "stream",
     "text": [
      "['int12occ']\n",
      "['int12occ', 'int18']\n",
      "['int12occ', 'int18', 'ejection']\n",
      "['int12occ', 'int18', 'ejection', 'other_death']\n",
      "['int12occ']\n",
      "['int12occ', 'int18']\n",
      "['int12occ', 'int18', 'ejection']\n",
      "['int12occ', 'int18', 'ejection', 'other_death']\n"
     ]
    }
   ],
   "source": [
    "# get ROC results for early and late crashes\n",
    "auc1, res1, tpr1, fpr1 = moi.vars_auc(mvcs_2000_2009, existing_cit, outcome, case_weights, verbose=True)\n",
    "auc2, res2, tpr2, fpr2 = moi.vars_auc(mvcs_2010_2019, existing_cit, outcome, case_weights, verbose=True)"
   ]
  },
  {
   "cell_type": "code",
   "execution_count": 19,
   "metadata": {},
   "outputs": [
    {
     "data": {
      "text/plain": [
       "<matplotlib.legend.Legend at 0x7f487d4271d0>"
      ]
     },
     "execution_count": 19,
     "metadata": {},
     "output_type": "execute_result"
    },
    {
     "data": {
      "image/png": "[encoded data removed]",
      "text/plain": [
       "<Figure size 288x432 with 1 Axes>"
      ]
     },
     "metadata": {},
     "output_type": "display_data"
    }
   ],
   "source": [
    "ax = plt.figure(0)\n",
    "\n",
    "# add results for early (2000-2009)\n",
    "plt.plot(fpr1,tpr1,linestyle='--', marker='o', color='black',label=\"2000-2009\")\n",
    "\n",
    "# add results for early (2010-2019)\n",
    "plt.plot(fpr2,tpr2,linestyle='-.', marker='s', color='grey',label=\"2010-2019\")\n",
    "\n",
    "plt.ylim(0,0.75)\n",
    "plt.xlim(0,0.04)\n",
    "\n",
    "ax.set_size_inches(4,6)\n",
    "\n",
    "plt.legend(loc='lower right')"
   ]
  },
  {
   "cell_type": "code",
   "execution_count": null,
   "metadata": {},
   "outputs": [],
   "source": []
  }
 ],
 "metadata": {
  "kernelspec": {
   "display_name": "Python 3",
   "language": "python",
   "name": "python3"
  },
  "language_info": {
   "codemirror_mode": {
    "name": "ipython",
    "version": 3
   },
   "file_extension": ".py",
   "mimetype": "text/x-python",
   "name": "python",
   "nbconvert_exporter": "python",
   "pygments_lexer": "ipython3",
   "version": "3.6.7"
  }
 },
 "nbformat": 4,
 "nbformat_minor": 4
}
