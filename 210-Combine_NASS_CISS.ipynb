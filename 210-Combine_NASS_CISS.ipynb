{
 "cells": [
  {
   "cell_type": "markdown",
   "metadata": {},
   "source": [
    "## Project: Estimation of accuracy of MOI for MVCs \n",
    "Created by: Thomas Hartka, MD, MSDS  \n",
    "Date created: 12/14/21  \n",
    "  \n",
    "This notebook combined the data from NASS and CISS. "
   ]
  },
  {
   "cell_type": "code",
   "execution_count": 1,
   "metadata": {},
   "outputs": [],
   "source": [
    "import numpy as np\n",
    "import pandas as pd\n",
    "from sklearn.model_selection import KFold\n",
    "import itertools"
   ]
  },
  {
   "cell_type": "markdown",
   "metadata": {},
   "source": [
    "## Read in NASS and CISS data"
   ]
  },
  {
   "cell_type": "code",
   "execution_count": 2,
   "metadata": {},
   "outputs": [],
   "source": [
    "nass = pd.read_csv(\"../Data/NASS/NASS-2000_2015-unfiltered.csv\")\n",
    "ciss = pd.read_csv(\"../Data/CISS/CISS-2017_2019-unfiltered.csv\")\n",
    "\n",
    "# set year\n",
    "nass['dataset'] = \"NASS\"\n",
    "ciss['dataset'] = \"CISS\""
   ]
  },
  {
   "cell_type": "markdown",
   "metadata": {},
   "source": [
    "## Combine datasets"
   ]
  },
  {
   "cell_type": "code",
   "execution_count": 3,
   "metadata": {},
   "outputs": [],
   "source": [
    "# combine years\n",
    "nass_ciss = nass.append(ciss).reset_index(drop=True)"
   ]
  },
  {
   "cell_type": "code",
   "execution_count": 4,
   "metadata": {},
   "outputs": [
    {
     "name": "stdout",
     "output_type": "stream",
     "text": [
      "Total cases:  150683\n",
      "Total cases (weighted):  73423188.70586148\n",
      "ISS>=16:  15335\n",
      "ISS>=16 (weighted):  1878458.3051364317\n",
      "ISS<16:  135348\n",
      "ISS<16 (weighted):  71544730.40072504\n"
     ]
    }
   ],
   "source": [
    "# number of cases\n",
    "print(\"Total cases: \", len(nass_ciss))\n",
    "print(\"Total cases (weighted): \", nass_ciss.casewgt.sum())\n",
    "\n",
    "# number of injury cases\n",
    "print(\"ISS>=16: \", len(nass_ciss[nass_ciss.iss>=16]))\n",
    "print(\"ISS>=16 (weighted): \", nass_ciss[nass_ciss.iss>=16].casewgt.sum())\n",
    "\n",
    "# number of non-injury cases\n",
    "print(\"ISS<16: \", len(nass_ciss[nass_ciss.iss<16]))\n",
    "print(\"ISS<16 (weighted): \", nass_ciss[nass_ciss.iss<16].casewgt.sum())"
   ]
  },
  {
   "cell_type": "markdown",
   "metadata": {},
   "source": [
    "## Make sex binary (male=0, female=1)"
   ]
  },
  {
   "cell_type": "code",
   "execution_count": 5,
   "metadata": {},
   "outputs": [],
   "source": [
    "nass_ciss['sex'] = nass_ciss.apply(lambda x: 1 if (x['sex']>=2) else x['sex']-1, axis=1)"
   ]
  },
  {
   "cell_type": "markdown",
   "metadata": {},
   "source": [
    "## Make variable for front row (versus all other rows)"
   ]
  },
  {
   "cell_type": "code",
   "execution_count": 6,
   "metadata": {},
   "outputs": [],
   "source": [
    "nass_ciss['front_row'] = nass_ciss.apply(lambda x: 0 if (x['seat_row']>=2) else 1, axis=1)"
   ]
  },
  {
   "cell_type": "markdown",
   "metadata": {},
   "source": [
    "## Add outcome flags "
   ]
  },
  {
   "cell_type": "code",
   "execution_count": 7,
   "metadata": {},
   "outputs": [],
   "source": [
    "# AIS 2+ \n",
    "nass_ciss['mais_head2'] = nass_ciss.apply(lambda x: 1 if (x['mais_head']>=2) else 0, axis=1)\n",
    "nass_ciss['mais_thorax2'] = nass_ciss.apply(lambda x: 1 if (x['mais_thorax']>=2) else 0, axis=1)\n",
    "nass_ciss['mais_abd2'] = nass_ciss.apply(lambda x: 1 if (x['mais_abd']>=2) else 0, axis=1)\n",
    "nass_ciss['mais2'] = nass_ciss.apply(lambda x: 1 if ((x['mais_head']>=2)|(x['mais_thorax']>=2)|(x['mais_abd']>=2)) else 0, axis=1)\n",
    "\n",
    "# AIS 3+ \n",
    "nass_ciss['mais_head3'] = nass_ciss.apply(lambda x: 1 if (x['mais_head']>=3) else 0, axis=1)\n",
    "nass_ciss['mais_thorax3'] = nass_ciss.apply(lambda x: 1 if (x['mais_thorax']>=3) else 0, axis=1)\n",
    "nass_ciss['mais_abd3'] = nass_ciss.apply(lambda x: 1 if (x['mais_abd']>=3) else 0, axis=1)\n",
    "nass_ciss['mais3'] = nass_ciss.apply(lambda x: 1 if ((x['mais_head']>=3)|(x['mais_thorax']>=3)|(x['mais_abd']>=3)) else 0, axis=1)\n",
    "\n",
    "nass_ciss['iss24' ] = nass_ciss.apply(lambda x: 1 if (x['iss']>=24) else 0, axis=1)"
   ]
  },
  {
   "cell_type": "markdown",
   "metadata": {},
   "source": [
    "## Select columns needed for analysis"
   ]
  },
  {
   "cell_type": "code",
   "execution_count": 8,
   "metadata": {},
   "outputs": [],
   "source": [
    "variables = ['age','prop_restraint','any_restraint','abdeply','dvtotal',\n",
    "             'splimit','multicoll','pdof_nearside','rolled', 'roll_turns',\n",
    "             'int18','int12occ','ejection','other_death','entrapment',\n",
    "             'casewgt','dataset','died','mais','mais3','year','iss16']"
   ]
  },
  {
   "cell_type": "code",
   "execution_count": 9,
   "metadata": {},
   "outputs": [],
   "source": [
    "nass_ciss = nass_ciss[variables]"
   ]
  },
  {
   "cell_type": "markdown",
   "metadata": {},
   "source": [
    "## Store data"
   ]
  },
  {
   "cell_type": "code",
   "execution_count": 10,
   "metadata": {},
   "outputs": [],
   "source": [
    "nass_ciss.to_csv(\"../Data/NASS_CISS-2000_2019-unfiltered.csv\", index=False)"
   ]
  },
  {
   "cell_type": "code",
   "execution_count": null,
   "metadata": {},
   "outputs": [],
   "source": []
  }
 ],
 "metadata": {
  "kernelspec": {
   "display_name": "Python 3",
   "language": "python",
   "name": "python3"
  },
  "language_info": {
   "codemirror_mode": {
    "name": "ipython",
    "version": 3
   },
   "file_extension": ".py",
   "mimetype": "text/x-python",
   "name": "python",
   "nbconvert_exporter": "python",
   "pygments_lexer": "ipython3",
   "version": "3.7.3"
  }
 },
 "nbformat": 4,
 "nbformat_minor": 4
}
