{
 "cells": [
  {
   "cell_type": "markdown",
   "metadata": {},
   "source": [
    "## Project: Estimation of accuracy of MOI for MVCs \n",
    "Created by: Thomas Hartka, MD, MSDS  \n",
    "Date created: 12/2/21 \n",
    "  \n",
    "This notebook performs imputation on missing data and creates five new data sets."
   ]
  },
  {
   "cell_type": "code",
   "execution_count": 1,
   "metadata": {},
   "outputs": [],
   "source": [
    "import numpy as np\n",
    "import pandas as pd\n",
    "from itertools import combinations\n",
    "from sklearn.experimental import enable_iterative_imputer  \n",
    "from sklearn.impute import IterativeImputer\n",
    "import math"
   ]
  },
  {
   "cell_type": "markdown",
   "metadata": {},
   "source": [
    "## Parameters"
   ]
  },
  {
   "cell_type": "code",
   "execution_count": 2,
   "metadata": {},
   "outputs": [],
   "source": [
    "# number of imputated data sets\n",
    "num_imp = 5 "
   ]
  },
  {
   "cell_type": "code",
   "execution_count": 3,
   "metadata": {},
   "outputs": [],
   "source": [
    "unfiltered_data_file = \"../Data/NASS_CISS-2000_2019-unfiltered.csv\""
   ]
  },
  {
   "cell_type": "code",
   "execution_count": 4,
   "metadata": {},
   "outputs": [],
   "source": [
    "predictors = ['age','prop_restraint','any_restraint','abdeply','dvtotal',\n",
    "              'splimit','multicoll','pdof_nearside','rolled', 'roll_turns',\n",
    "              'int18','int12occ','ejection','other_death','entrapment']\n",
    "\n",
    "responses = ['iss16','mais','mais3']\n",
    "\n",
    "variables = predictors + responses"
   ]
  },
  {
   "cell_type": "markdown",
   "metadata": {},
   "source": [
    "## Read in data"
   ]
  },
  {
   "cell_type": "code",
   "execution_count": 5,
   "metadata": {},
   "outputs": [],
   "source": [
    "mvcs = pd.read_csv(unfiltered_data_file)"
   ]
  },
  {
   "cell_type": "markdown",
   "metadata": {},
   "source": [
    "## Clean up imputated variables"
   ]
  },
  {
   "cell_type": "code",
   "execution_count": 6,
   "metadata": {},
   "outputs": [],
   "source": [
    "def clean_vars(df, df_imp):\n",
    "    # loop through all variables\n",
    "    for var in list(df_imp.columns):\n",
    "        # if continuous\n",
    "        if not all([((i in [0,1])  | (math.isnan(i))) for i in df[var].unique()]):\n",
    "\n",
    "            # all continuous variables should be greater than zero\n",
    "            df_imp[var] = df_imp.apply(lambda x: x[var] if x[var] >= 0  else 0, axis=1)\n",
    "            #print(var, \" is continuous\")\n",
    "\n",
    "        # else binary\n",
    "        else:\n",
    "\n",
    "            # convert binary variables to 0/1 at 0.5 cut off\n",
    "            df_imp[var] = df_imp.apply(lambda x: 1 if x[var] >= 0.5  else 0, axis=1)\n",
    "            #print(var, \" is binary\")\n",
    "            \n",
    "    return df_imp"
   ]
  },
  {
   "cell_type": "markdown",
   "metadata": {},
   "source": [
    "## Function to impute data"
   ]
  },
  {
   "cell_type": "code",
   "execution_count": 7,
   "metadata": {},
   "outputs": [],
   "source": [
    "def impute_cols(data, imp_variables, seed):\n",
    "    \n",
    "    # set up imputer\n",
    "    imp_mod = IterativeImputer(max_iter=10, random_state=seed)\n",
    "    imp_mod.fit(mvcs[imp_variables])\n",
    "    \n",
    "    # imputate data\n",
    "    imputed = imp_mod.transform(data[imp_variables])\n",
    "    \n",
    "    # convert to pandas df\n",
    "    data_imp = pd.DataFrame(imputed, columns=imp_variables)\n",
    "    \n",
    "    # clean up imputed variables\n",
    "    data_imp = clean_vars(data, data_imp)\n",
    "    \n",
    "    # find columns not in imputed data\n",
    "    unimp_cols = list(set(data.columns)-set(data_imp.columns))\n",
    "        \n",
    "    # add back unimputed columns\n",
    "    data_imp[unimp_cols] = data[unimp_cols]\n",
    "    \n",
    "    return data_imp"
   ]
  },
  {
   "cell_type": "code",
   "execution_count": 8,
   "metadata": {},
   "outputs": [
    {
     "name": "stdout",
     "output_type": "stream",
     "text": [
      "1\n",
      "2\n",
      "3\n",
      "4\n",
      "CPU times: user 27min 15s, sys: 18min 40s, total: 45min 55s\n",
      "Wall time: 6min 48s\n"
     ]
    }
   ],
   "source": [
    "%%time\n",
    "# get first imputated data set\n",
    "mvcs_imp = impute_cols(mvcs, variables, 42)\n",
    "\n",
    "# add subsequent data sets\n",
    "for i in range(1, num_imp):\n",
    "    print(i)\n",
    "    mvcs_imp = mvcs_imp.append(impute_cols(mvcs, variables, i))"
   ]
  },
  {
   "cell_type": "code",
   "execution_count": 9,
   "metadata": {},
   "outputs": [
    {
     "data": {
      "text/plain": [
       "150683"
      ]
     },
     "execution_count": 9,
     "metadata": {},
     "output_type": "execute_result"
    }
   ],
   "source": [
    "len(mvcs)"
   ]
  },
  {
   "cell_type": "code",
   "execution_count": 10,
   "metadata": {},
   "outputs": [
    {
     "data": {
      "text/plain": [
       "753415"
      ]
     },
     "execution_count": 10,
     "metadata": {},
     "output_type": "execute_result"
    }
   ],
   "source": [
    "len(mvcs_imp)"
   ]
  },
  {
   "cell_type": "code",
   "execution_count": 12,
   "metadata": {},
   "outputs": [
    {
     "data": {
      "text/plain": [
       "40872468.21332148"
      ]
     },
     "execution_count": 12,
     "metadata": {},
     "output_type": "execute_result"
    }
   ],
   "source": [
    "sum(mvcs[mvcs.year<2009].casewgt)"
   ]
  },
  {
   "cell_type": "code",
   "execution_count": 10,
   "metadata": {},
   "outputs": [
    {
     "data": {
      "text/plain": [
       "48764"
      ]
     },
     "execution_count": 10,
     "metadata": {},
     "output_type": "execute_result"
    }
   ],
   "source": [
    "len(mvcs[mvcs.year>=2010])"
   ]
  },
  {
   "cell_type": "markdown",
   "metadata": {},
   "source": [
    "## Output data"
   ]
  },
  {
   "cell_type": "code",
   "execution_count": 11,
   "metadata": {},
   "outputs": [
    {
     "data": {
      "text/plain": [
       "Index(['age', 'prop_restraint', 'any_restraint', 'abdeply', 'dvtotal',\n",
       "       'splimit', 'multicoll', 'pdof_nearside', 'rolled', 'roll_turns',\n",
       "       'int18', 'int12occ', 'ejection', 'other_death', 'entrapment', 'iss16',\n",
       "       'mais', 'mais3', 'dataset', 'year', 'casewgt', 'died'],\n",
       "      dtype='object')"
      ]
     },
     "execution_count": 11,
     "metadata": {},
     "output_type": "execute_result"
    }
   ],
   "source": [
    "mvcs_imp.columns"
   ]
  },
  {
   "cell_type": "code",
   "execution_count": 12,
   "metadata": {},
   "outputs": [
    {
     "data": {
      "text/html": [
       "<div>\n",
       "<style scoped>\n",
       "    .dataframe tbody tr th:only-of-type {\n",
       "        vertical-align: middle;\n",
       "    }\n",
       "\n",
       "    .dataframe tbody tr th {\n",
       "        vertical-align: top;\n",
       "    }\n",
       "\n",
       "    .dataframe thead th {\n",
       "        text-align: right;\n",
       "    }\n",
       "</style>\n",
       "<table border=\"1\" class=\"dataframe\">\n",
       "  <thead>\n",
       "    <tr style=\"text-align: right;\">\n",
       "      <th></th>\n",
       "      <th>age</th>\n",
       "      <th>prop_restraint</th>\n",
       "      <th>any_restraint</th>\n",
       "      <th>abdeply</th>\n",
       "      <th>dvtotal</th>\n",
       "      <th>splimit</th>\n",
       "      <th>multicoll</th>\n",
       "      <th>pdof_nearside</th>\n",
       "      <th>rolled</th>\n",
       "      <th>roll_turns</th>\n",
       "      <th>...</th>\n",
       "      <th>ejection</th>\n",
       "      <th>other_death</th>\n",
       "      <th>entrapment</th>\n",
       "      <th>iss16</th>\n",
       "      <th>mais</th>\n",
       "      <th>mais3</th>\n",
       "      <th>dataset</th>\n",
       "      <th>year</th>\n",
       "      <th>casewgt</th>\n",
       "      <th>died</th>\n",
       "    </tr>\n",
       "  </thead>\n",
       "  <tbody>\n",
       "    <tr>\n",
       "      <th>0</th>\n",
       "      <td>55.0</td>\n",
       "      <td>0</td>\n",
       "      <td>0</td>\n",
       "      <td>1</td>\n",
       "      <td>25.000000</td>\n",
       "      <td>89.0</td>\n",
       "      <td>1</td>\n",
       "      <td>0</td>\n",
       "      <td>0</td>\n",
       "      <td>0.0</td>\n",
       "      <td>...</td>\n",
       "      <td>1</td>\n",
       "      <td>0</td>\n",
       "      <td>0</td>\n",
       "      <td>1</td>\n",
       "      <td>4.0</td>\n",
       "      <td>1</td>\n",
       "      <td>NASS</td>\n",
       "      <td>2000</td>\n",
       "      <td>106.932133</td>\n",
       "      <td>0</td>\n",
       "    </tr>\n",
       "    <tr>\n",
       "      <th>1</th>\n",
       "      <td>22.0</td>\n",
       "      <td>1</td>\n",
       "      <td>1</td>\n",
       "      <td>1</td>\n",
       "      <td>39.000000</td>\n",
       "      <td>89.0</td>\n",
       "      <td>1</td>\n",
       "      <td>0</td>\n",
       "      <td>0</td>\n",
       "      <td>0.0</td>\n",
       "      <td>...</td>\n",
       "      <td>0</td>\n",
       "      <td>0</td>\n",
       "      <td>1</td>\n",
       "      <td>0</td>\n",
       "      <td>3.0</td>\n",
       "      <td>0</td>\n",
       "      <td>NASS</td>\n",
       "      <td>2000</td>\n",
       "      <td>106.932133</td>\n",
       "      <td>0</td>\n",
       "    </tr>\n",
       "    <tr>\n",
       "      <th>2</th>\n",
       "      <td>25.0</td>\n",
       "      <td>0</td>\n",
       "      <td>0</td>\n",
       "      <td>1</td>\n",
       "      <td>39.000000</td>\n",
       "      <td>89.0</td>\n",
       "      <td>1</td>\n",
       "      <td>0</td>\n",
       "      <td>0</td>\n",
       "      <td>0.0</td>\n",
       "      <td>...</td>\n",
       "      <td>0</td>\n",
       "      <td>0</td>\n",
       "      <td>0</td>\n",
       "      <td>0</td>\n",
       "      <td>2.0</td>\n",
       "      <td>0</td>\n",
       "      <td>NASS</td>\n",
       "      <td>2000</td>\n",
       "      <td>106.932133</td>\n",
       "      <td>0</td>\n",
       "    </tr>\n",
       "    <tr>\n",
       "      <th>3</th>\n",
       "      <td>37.0</td>\n",
       "      <td>1</td>\n",
       "      <td>1</td>\n",
       "      <td>1</td>\n",
       "      <td>26.003873</td>\n",
       "      <td>72.0</td>\n",
       "      <td>1</td>\n",
       "      <td>0</td>\n",
       "      <td>0</td>\n",
       "      <td>0.0</td>\n",
       "      <td>...</td>\n",
       "      <td>0</td>\n",
       "      <td>0</td>\n",
       "      <td>0</td>\n",
       "      <td>0</td>\n",
       "      <td>2.0</td>\n",
       "      <td>0</td>\n",
       "      <td>NASS</td>\n",
       "      <td>2000</td>\n",
       "      <td>3171.822421</td>\n",
       "      <td>0</td>\n",
       "    </tr>\n",
       "    <tr>\n",
       "      <th>4</th>\n",
       "      <td>6.0</td>\n",
       "      <td>0</td>\n",
       "      <td>1</td>\n",
       "      <td>1</td>\n",
       "      <td>25.243459</td>\n",
       "      <td>72.0</td>\n",
       "      <td>1</td>\n",
       "      <td>0</td>\n",
       "      <td>0</td>\n",
       "      <td>0.0</td>\n",
       "      <td>...</td>\n",
       "      <td>0</td>\n",
       "      <td>0</td>\n",
       "      <td>0</td>\n",
       "      <td>0</td>\n",
       "      <td>0.0</td>\n",
       "      <td>0</td>\n",
       "      <td>NASS</td>\n",
       "      <td>2000</td>\n",
       "      <td>3171.822421</td>\n",
       "      <td>0</td>\n",
       "    </tr>\n",
       "    <tr>\n",
       "      <th>5</th>\n",
       "      <td>20.0</td>\n",
       "      <td>1</td>\n",
       "      <td>1</td>\n",
       "      <td>0</td>\n",
       "      <td>22.520525</td>\n",
       "      <td>113.0</td>\n",
       "      <td>0</td>\n",
       "      <td>0</td>\n",
       "      <td>0</td>\n",
       "      <td>0.0</td>\n",
       "      <td>...</td>\n",
       "      <td>0</td>\n",
       "      <td>0</td>\n",
       "      <td>0</td>\n",
       "      <td>0</td>\n",
       "      <td>0.0</td>\n",
       "      <td>0</td>\n",
       "      <td>NASS</td>\n",
       "      <td>2000</td>\n",
       "      <td>777.280666</td>\n",
       "      <td>0</td>\n",
       "    </tr>\n",
       "    <tr>\n",
       "      <th>6</th>\n",
       "      <td>21.0</td>\n",
       "      <td>1</td>\n",
       "      <td>1</td>\n",
       "      <td>0</td>\n",
       "      <td>22.483876</td>\n",
       "      <td>113.0</td>\n",
       "      <td>0</td>\n",
       "      <td>0</td>\n",
       "      <td>0</td>\n",
       "      <td>0.0</td>\n",
       "      <td>...</td>\n",
       "      <td>0</td>\n",
       "      <td>0</td>\n",
       "      <td>0</td>\n",
       "      <td>0</td>\n",
       "      <td>0.0</td>\n",
       "      <td>0</td>\n",
       "      <td>NASS</td>\n",
       "      <td>2000</td>\n",
       "      <td>777.280666</td>\n",
       "      <td>0</td>\n",
       "    </tr>\n",
       "    <tr>\n",
       "      <th>7</th>\n",
       "      <td>19.0</td>\n",
       "      <td>1</td>\n",
       "      <td>1</td>\n",
       "      <td>0</td>\n",
       "      <td>23.868089</td>\n",
       "      <td>113.0</td>\n",
       "      <td>0</td>\n",
       "      <td>0</td>\n",
       "      <td>0</td>\n",
       "      <td>0.0</td>\n",
       "      <td>...</td>\n",
       "      <td>0</td>\n",
       "      <td>0</td>\n",
       "      <td>0</td>\n",
       "      <td>0</td>\n",
       "      <td>1.0</td>\n",
       "      <td>0</td>\n",
       "      <td>NASS</td>\n",
       "      <td>2000</td>\n",
       "      <td>777.280666</td>\n",
       "      <td>0</td>\n",
       "    </tr>\n",
       "    <tr>\n",
       "      <th>8</th>\n",
       "      <td>20.0</td>\n",
       "      <td>1</td>\n",
       "      <td>1</td>\n",
       "      <td>0</td>\n",
       "      <td>23.448925</td>\n",
       "      <td>113.0</td>\n",
       "      <td>1</td>\n",
       "      <td>0</td>\n",
       "      <td>0</td>\n",
       "      <td>0.0</td>\n",
       "      <td>...</td>\n",
       "      <td>0</td>\n",
       "      <td>0</td>\n",
       "      <td>0</td>\n",
       "      <td>0</td>\n",
       "      <td>1.0</td>\n",
       "      <td>0</td>\n",
       "      <td>NASS</td>\n",
       "      <td>2000</td>\n",
       "      <td>777.280666</td>\n",
       "      <td>0</td>\n",
       "    </tr>\n",
       "    <tr>\n",
       "      <th>9</th>\n",
       "      <td>15.0</td>\n",
       "      <td>1</td>\n",
       "      <td>1</td>\n",
       "      <td>0</td>\n",
       "      <td>16.192142</td>\n",
       "      <td>89.0</td>\n",
       "      <td>0</td>\n",
       "      <td>0</td>\n",
       "      <td>1</td>\n",
       "      <td>2.0</td>\n",
       "      <td>...</td>\n",
       "      <td>0</td>\n",
       "      <td>0</td>\n",
       "      <td>0</td>\n",
       "      <td>0</td>\n",
       "      <td>0.0</td>\n",
       "      <td>0</td>\n",
       "      <td>NASS</td>\n",
       "      <td>2000</td>\n",
       "      <td>1256.154247</td>\n",
       "      <td>0</td>\n",
       "    </tr>\n",
       "  </tbody>\n",
       "</table>\n",
       "<p>10 rows × 22 columns</p>\n",
       "</div>"
      ],
      "text/plain": [
       "    age  prop_restraint  any_restraint  abdeply    dvtotal  splimit  \\\n",
       "0  55.0               0              0        1  25.000000     89.0   \n",
       "1  22.0               1              1        1  39.000000     89.0   \n",
       "2  25.0               0              0        1  39.000000     89.0   \n",
       "3  37.0               1              1        1  26.003873     72.0   \n",
       "4   6.0               0              1        1  25.243459     72.0   \n",
       "5  20.0               1              1        0  22.520525    113.0   \n",
       "6  21.0               1              1        0  22.483876    113.0   \n",
       "7  19.0               1              1        0  23.868089    113.0   \n",
       "8  20.0               1              1        0  23.448925    113.0   \n",
       "9  15.0               1              1        0  16.192142     89.0   \n",
       "\n",
       "   multicoll  pdof_nearside  rolled  roll_turns  ...   ejection  other_death  \\\n",
       "0          1              0       0         0.0  ...          1            0   \n",
       "1          1              0       0         0.0  ...          0            0   \n",
       "2          1              0       0         0.0  ...          0            0   \n",
       "3          1              0       0         0.0  ...          0            0   \n",
       "4          1              0       0         0.0  ...          0            0   \n",
       "5          0              0       0         0.0  ...          0            0   \n",
       "6          0              0       0         0.0  ...          0            0   \n",
       "7          0              0       0         0.0  ...          0            0   \n",
       "8          1              0       0         0.0  ...          0            0   \n",
       "9          0              0       1         2.0  ...          0            0   \n",
       "\n",
       "   entrapment  iss16  mais  mais3  dataset  year      casewgt  died  \n",
       "0           0      1   4.0      1     NASS  2000   106.932133     0  \n",
       "1           1      0   3.0      0     NASS  2000   106.932133     0  \n",
       "2           0      0   2.0      0     NASS  2000   106.932133     0  \n",
       "3           0      0   2.0      0     NASS  2000  3171.822421     0  \n",
       "4           0      0   0.0      0     NASS  2000  3171.822421     0  \n",
       "5           0      0   0.0      0     NASS  2000   777.280666     0  \n",
       "6           0      0   0.0      0     NASS  2000   777.280666     0  \n",
       "7           0      0   1.0      0     NASS  2000   777.280666     0  \n",
       "8           0      0   1.0      0     NASS  2000   777.280666     0  \n",
       "9           0      0   0.0      0     NASS  2000  1256.154247     0  \n",
       "\n",
       "[10 rows x 22 columns]"
      ]
     },
     "execution_count": 12,
     "metadata": {},
     "output_type": "execute_result"
    }
   ],
   "source": [
    "mvcs_imp.head(10)"
   ]
  },
  {
   "cell_type": "code",
   "execution_count": 13,
   "metadata": {},
   "outputs": [],
   "source": [
    "mvcs_imp.to_csv(\"../Data/NASS_CISS-2000_2019-imputated.csv\", index=False)"
   ]
  },
  {
   "cell_type": "code",
   "execution_count": null,
   "metadata": {},
   "outputs": [],
   "source": []
  }
 ],
 "metadata": {
  "kernelspec": {
   "display_name": "Python 3",
   "language": "python",
   "name": "python3"
  },
  "language_info": {
   "codemirror_mode": {
    "name": "ipython",
    "version": 3
   },
   "file_extension": ".py",
   "mimetype": "text/x-python",
   "name": "python",
   "nbconvert_exporter": "python",
   "pygments_lexer": "ipython3",
   "version": "3.6.7"
  }
 },
 "nbformat": 4,
 "nbformat_minor": 4
}
