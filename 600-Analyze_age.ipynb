{
 "cells": [
  {
   "cell_type": "markdown",
   "metadata": {},
   "source": [
    "## Project: Estimation of accuracy of MOI for MVCs \n",
    "Created by: Thomas Hartka, MD, MSDS  \n",
    "Date created: 1/27/22  \n",
    "  \n",
    "This notebook analyzes determines the sensitivity, specificity, and accuracy of the CDC MOI criteria for MVC in  patients in different age groups."
   ]
  },
  {
   "cell_type": "code",
   "execution_count": 1,
   "metadata": {},
   "outputs": [],
   "source": [
    "import numpy as np\n",
    "import pandas as pd\n",
    "from sklearn.linear_model import LogisticRegression\n",
    "from sklearn import metrics\n",
    "import scipy.stats as st\n",
    "import matplotlib.pyplot as plt\n",
    "from itertools import combinations\n",
    "import datetime\n",
    "from multiprocessing import Process, Queue\n",
    "import multiprocessing\n",
    "import moi_analysis as moi"
   ]
  },
  {
   "cell_type": "markdown",
   "metadata": {},
   "source": [
    "## Parameters"
   ]
  },
  {
   "cell_type": "code",
   "execution_count": 2,
   "metadata": {},
   "outputs": [],
   "source": [
    "mvcs_data_file = \"../Data/NASS_CISS-2000_2019-unfiltered.csv\"\n",
    "mvcs_imp_data_file = \"../Data/NASS_CISS-2000_2019-imputated.csv\""
   ]
  },
  {
   "cell_type": "code",
   "execution_count": 3,
   "metadata": {},
   "outputs": [],
   "source": [
    "use_imputed = True  # whether to use imputed or raw data\n",
    "bootstrap_div = 5   # divisor of full sample len for bootstrapped sample\n",
    "bootstrap_num = 1000   # number of bootstrapped samples"
   ]
  },
  {
   "cell_type": "code",
   "execution_count": 4,
   "metadata": {},
   "outputs": [],
   "source": [
    "# column names\n",
    "outcome = 'iss16'\n",
    "existing_cit = ['int12occ','int18','ejection','other_death']\n",
    "case_weights = 'casewgt'"
   ]
  },
  {
   "cell_type": "markdown",
   "metadata": {},
   "source": [
    "## Read in data"
   ]
  },
  {
   "cell_type": "code",
   "execution_count": 5,
   "metadata": {},
   "outputs": [],
   "source": [
    "if use_imputed:\n",
    "    # use imputated data set\n",
    "    mvcs = pd.read_csv(mvcs_imp_data_file)\n",
    "\n",
    "else:\n",
    "    # use unimputed data set\n",
    "    mvcs = pd.read_csv(mvcs_data_file)"
   ]
  },
  {
   "cell_type": "markdown",
   "metadata": {},
   "source": [
    "## Function for bootstrap evaluation of criteria"
   ]
  },
  {
   "cell_type": "code",
   "execution_count": 6,
   "metadata": {},
   "outputs": [],
   "source": [
    "def bootstrap_list(dat, predictors, response, sample_size, bs_num, sig_dig=-1, verbose=False):\n",
    "    '''\n",
    "    This function runs bootstrapped acc, sens, and spec calculations.  It then finds the \n",
    "    median with 95% CI and returns the results as a  list.\n",
    "    \n",
    "    Parameters:\n",
    "        dat - data to analyze\n",
    "        predictors - list of columns for predictors\n",
    "        response - outcome column\n",
    "        sample_size - size of bootstrapped sample\n",
    "        bs_num - number of bootstrap iterations\n",
    "    Returns:\n",
    "        list - (accuracy med, 95% LL, 95% UL, sensitivity med, 95% LL, 95% UL, specificity med, 95% LL, 95% UL)\n",
    "    '''\n",
    "    \n",
    "    # lists for results\n",
    "    acc = []\n",
    "    sens = []\n",
    "    spec = []\n",
    "    \n",
    "    for i in range(0,bs_num):\n",
    "        # sample with replacement\n",
    "        sample = dat.sample(sample_size, replace=True)\n",
    "\n",
    "        # calculate AUC\n",
    "        res = moi.var_perf(sample, predictors, response, 'casewgt')\n",
    "\n",
    "        if verbose:\n",
    "            if (i%100==0):\n",
    "                print(\"Sample: \", i, \" of \", bs_num)\n",
    "        \n",
    "        # store results to list\n",
    "        acc += [res.accuracy]\n",
    "        sens += [res.sensitivity]\n",
    "        spec += [res.specificity]\n",
    "        \n",
    "    # get summary statistics\n",
    "    acc_sum = moi.med_ci(acc, sig_dig=sig_dig)\n",
    "    sens_sum = moi.med_ci(sens, sig_dig=sig_dig)\n",
    "    spec_sum = moi.med_ci(spec, sig_dig=sig_dig)\n",
    "    \n",
    "    # convert to list\n",
    "    results = [acc_sum[0], acc_sum[1][0], acc_sum[1][1], \\\n",
    "               sens_sum[0], sens_sum[1][0], sens_sum[1][1], \\\n",
    "               spec_sum[0], spec_sum[1][0], spec_sum[1][1]]\n",
    "    \n",
    "    return results"
   ]
  },
  {
   "cell_type": "code",
   "execution_count": 7,
   "metadata": {},
   "outputs": [],
   "source": [
    "def age_analysis(dat, ages, predictors, response, bs_num, sig_dig=-1, verbose=False):\n",
    "    '''\n",
    "    This script determines the acc, sens, and spec of MOI criteria for different age groups and \n",
    "     returns a data frame with the results.\n",
    "     \n",
    "    Parameters:\n",
    "        dat - data to analyze\n",
    "        age - list with lower and upper limits for age (inclusive)\n",
    "        predictors - list of columns for predictors\n",
    "        response - outcome column\n",
    "        bs_num - number of bootstrap iterations\n",
    "    Returns:\n",
    "        list - (accuracy med, 95% LL, 95% UL, sensitivity med, 95% LL, 95% UL, specificity med, 95% LL, 95% UL)    \n",
    "    '''\n",
    "    \n",
    "    # filter data for ages\n",
    "    dat = dat[(dat.age>=ages[0]) & (dat.age<=ages[1])]\n",
    "    \n",
    "    # calculate bootstrap sample size\n",
    "    sample_size = round(len(dat)/bootstrap_div)\n",
    "    \n",
    "    # get performance for age group\n",
    "    res = bootstrap_list(dat, predictors, response, sample_size, bs_num, sig_dig=-1, verbose=verbose)\n",
    "    \n",
    "    # create dataframe for results\n",
    "    res_df = pd.DataFrame({'ages':str(ages[0])+\"-\"+str(ages[1]), \\\n",
    "                           'acc_med':[res[0]], \\\n",
    "                           'acc_ll':[res[1]], \\\n",
    "                           'acc_ul':[res[2]], \\\n",
    "                           'sens_med':[res[3]], \\\n",
    "                           'sens_ll':[res[4]], \\\n",
    "                           'sens_ul':[res[5]], \\\n",
    "                           'spec_med':[res[6]], \\\n",
    "                           'spec_ll':[res[7]], \\\n",
    "                           'spec_ul':[res[8]]})\n",
    "    \n",
    "    return res_df"
   ]
  },
  {
   "cell_type": "markdown",
   "metadata": {},
   "source": [
    "## Calculate performance for different age groups"
   ]
  },
  {
   "cell_type": "code",
   "execution_count": 37,
   "metadata": {},
   "outputs": [
    {
     "data": {
      "text/html": [
       "<div>\n",
       "<style scoped>\n",
       "    .dataframe tbody tr th:only-of-type {\n",
       "        vertical-align: middle;\n",
       "    }\n",
       "\n",
       "    .dataframe tbody tr th {\n",
       "        vertical-align: top;\n",
       "    }\n",
       "\n",
       "    .dataframe thead th {\n",
       "        text-align: right;\n",
       "    }\n",
       "</style>\n",
       "<table border=\"1\" class=\"dataframe\">\n",
       "  <thead>\n",
       "    <tr style=\"text-align: right;\">\n",
       "      <th></th>\n",
       "      <th>ages</th>\n",
       "      <th>acc_med</th>\n",
       "      <th>acc_ll</th>\n",
       "      <th>acc_ul</th>\n",
       "      <th>sens_med</th>\n",
       "      <th>sens_ll</th>\n",
       "      <th>sens_ul</th>\n",
       "      <th>spec_med</th>\n",
       "      <th>spec_ll</th>\n",
       "      <th>spec_ul</th>\n",
       "    </tr>\n",
       "  </thead>\n",
       "  <tbody>\n",
       "    <tr>\n",
       "      <th>0</th>\n",
       "      <td>0-18</td>\n",
       "      <td>0.968499</td>\n",
       "      <td>0.965051</td>\n",
       "      <td>0.971868</td>\n",
       "      <td>0.628817</td>\n",
       "      <td>0.552311</td>\n",
       "      <td>0.698331</td>\n",
       "      <td>0.972341</td>\n",
       "      <td>0.968950</td>\n",
       "      <td>0.975479</td>\n",
       "    </tr>\n",
       "    <tr>\n",
       "      <th>0</th>\n",
       "      <td>19-54</td>\n",
       "      <td>0.966315</td>\n",
       "      <td>0.963529</td>\n",
       "      <td>0.968718</td>\n",
       "      <td>0.593657</td>\n",
       "      <td>0.568728</td>\n",
       "      <td>0.617313</td>\n",
       "      <td>0.972472</td>\n",
       "      <td>0.969703</td>\n",
       "      <td>0.974815</td>\n",
       "    </tr>\n",
       "    <tr>\n",
       "      <th>0</th>\n",
       "      <td>55-100</td>\n",
       "      <td>0.964871</td>\n",
       "      <td>0.959989</td>\n",
       "      <td>0.969010</td>\n",
       "      <td>0.410215</td>\n",
       "      <td>0.368149</td>\n",
       "      <td>0.448838</td>\n",
       "      <td>0.983535</td>\n",
       "      <td>0.979730</td>\n",
       "      <td>0.986595</td>\n",
       "    </tr>\n",
       "    <tr>\n",
       "      <th>0</th>\n",
       "      <td>65-100</td>\n",
       "      <td>0.957927</td>\n",
       "      <td>0.949726</td>\n",
       "      <td>0.964147</td>\n",
       "      <td>0.357559</td>\n",
       "      <td>0.307363</td>\n",
       "      <td>0.406275</td>\n",
       "      <td>0.983170</td>\n",
       "      <td>0.977298</td>\n",
       "      <td>0.987257</td>\n",
       "    </tr>\n",
       "  </tbody>\n",
       "</table>\n",
       "</div>"
      ],
      "text/plain": [
       "     ages   acc_med    acc_ll    acc_ul  sens_med   sens_ll   sens_ul  \\\n",
       "0    0-18  0.968499  0.965051  0.971868  0.628817  0.552311  0.698331   \n",
       "0   19-54  0.966315  0.963529  0.968718  0.593657  0.568728  0.617313   \n",
       "0  55-100  0.964871  0.959989  0.969010  0.410215  0.368149  0.448838   \n",
       "0  65-100  0.957927  0.949726  0.964147  0.357559  0.307363  0.406275   \n",
       "\n",
       "   spec_med   spec_ll   spec_ul  \n",
       "0  0.972341  0.968950  0.975479  \n",
       "0  0.972472  0.969703  0.974815  \n",
       "0  0.983535  0.979730  0.986595  \n",
       "0  0.983170  0.977298  0.987257  "
      ]
     },
     "metadata": {},
     "output_type": "display_data"
    },
    {
     "name": "stdout",
     "output_type": "stream",
     "text": [
      "CPU times: user 3min 36s, sys: 17.2 s, total: 3min 53s\n",
      "Wall time: 3min 41s\n"
     ]
    }
   ],
   "source": [
    "%%time\n",
    "# data frame for results from current critieria\n",
    "results = pd.DataFrame()\n",
    "\n",
    "# get results for age groups\n",
    "results = results.append(age_analysis(mvcs, [0,18], existing_cit, outcome, bootstrap_num, sig_dig=2, verbose=False))\n",
    "results = results.append(age_analysis(mvcs, [19,54], existing_cit, outcome, bootstrap_num, sig_dig=2, verbose=False))\n",
    "results = results.append(age_analysis(mvcs, [55,100], existing_cit, outcome, bootstrap_num, sig_dig=2, verbose=False))\n",
    "results = results.append(age_analysis(mvcs, [65,100], existing_cit, outcome, bootstrap_num, sig_dig=2, verbose=False))\n",
    "\n",
    "display(results)"
   ]
  },
  {
   "cell_type": "code",
   "execution_count": 36,
   "metadata": {},
   "outputs": [
    {
     "data": {
      "text/plain": [
       "0.43152866242038224"
      ]
     },
     "execution_count": 36,
     "metadata": {},
     "output_type": "execute_result"
    }
   ],
   "source": [
    "1-0.357/0.628"
   ]
  },
  {
   "cell_type": "markdown",
   "metadata": {},
   "source": [
    "## Plot results"
   ]
  },
  {
   "cell_type": "code",
   "execution_count": 40,
   "metadata": {},
   "outputs": [],
   "source": [
    "results['ages'] = results.ages.str.replace('-100','+') + \" years\"\n",
    "\n",
    "results = results.set_index('ages')"
   ]
  },
  {
   "cell_type": "code",
   "execution_count": 41,
   "metadata": {},
   "outputs": [
    {
     "data": {
      "text/plain": [
       "<matplotlib.legend.Legend at 0x7f99060b4128>"
      ]
     },
     "execution_count": 41,
     "metadata": {},
     "output_type": "execute_result"
    },
    {
     "data": {
      "image/png": "[encoded data removed]",
      "text/plain": [
       "<Figure size 576x432 with 1 Axes>"
      ]
     },
     "metadata": {},
     "output_type": "display_data"
    }
   ],
   "source": [
    "# number of age categories\n",
    "age_cats = len(results)\n",
    "\n",
    "# height of the bars\n",
    "bar_hgt = 0.6/age_cats\n",
    " \n",
    "# initial position of bars \n",
    "init_pos = np.arange(3)-0.25\n",
    "\n",
    "colors = ['grey','darkgrey','silver','lightgrey']\n",
    " \n",
    "ax = plt.figure(0)\n",
    "    \n",
    "for i in range(0, age_cats):\n",
    "    bar = results.iloc[i][['acc_med','sens_med','spec_med']].values\n",
    "    \n",
    "    #y_pos = [y + bar_hgt*(age_cats-i) for y in init_pos]\n",
    "    y_pos = [y + bar_hgt*i for y in init_pos]\n",
    "    \n",
    "    x_err = [[results.acc_med.iloc[i]-results.acc_ll.iloc[i], results.sens_med.iloc[i]-results.sens_ll.iloc[i], results.spec_med.iloc[i]-results.spec_ll.iloc[i]], \\\n",
    "             [results.acc_ul.iloc[i]-results.acc_med.iloc[i], results.sens_ul.iloc[i]-results.sens_med.iloc[i], results.spec_ul.iloc[i]- results.spec_med.iloc[i]]]\n",
    "    \n",
    "    plt.barh(y_pos, bar, height = bar_hgt, color = colors[i], xerr = x_err, capsize=4, edgecolor = 'black', label=results.index[i])\n",
    "    \n",
    "plt.yticks((0, 1, 2), ('Accuracy', 'Sensitivity', 'Specificity'))\n",
    "\n",
    "plt.ylim(2.5,-0.5)\n",
    "\n",
    "ax.set_size_inches(8,6)\n",
    "\n",
    "plt.legend()"
   ]
  },
  {
   "cell_type": "code",
   "execution_count": null,
   "metadata": {},
   "outputs": [],
   "source": []
  },
  {
   "cell_type": "code",
   "execution_count": null,
   "metadata": {},
   "outputs": [],
   "source": []
  }
 ],
 "metadata": {
  "kernelspec": {
   "display_name": "Python 3",
   "language": "python",
   "name": "python3"
  },
  "language_info": {
   "codemirror_mode": {
    "name": "ipython",
    "version": 3
   },
   "file_extension": ".py",
   "mimetype": "text/x-python",
   "name": "python",
   "nbconvert_exporter": "python",
   "pygments_lexer": "ipython3",
   "version": "3.6.7"
  }
 },
 "nbformat": 4,
 "nbformat_minor": 4
}
