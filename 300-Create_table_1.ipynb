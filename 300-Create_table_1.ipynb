{
 "cells": [
  {
   "cell_type": "markdown",
   "metadata": {},
   "source": [
    "## Project: Estimation of accuracy of MOI for MVCs \n",
    "Created by: Thomas Hartka, MD, MSDS  \n",
    "Date created: 12/2/21 \n",
    "  \n",
    "This notebook determines overall characteristics of the patient population for Table 1."
   ]
  },
  {
   "cell_type": "code",
   "execution_count": 1,
   "metadata": {},
   "outputs": [],
   "source": [
    "import numpy as np\n",
    "import pandas as pd\n",
    "from sklearn.model_selection import KFold\n",
    "import itertools"
   ]
  },
  {
   "cell_type": "markdown",
   "metadata": {},
   "source": [
    "## Read in data"
   ]
  },
  {
   "cell_type": "code",
   "execution_count": 2,
   "metadata": {},
   "outputs": [],
   "source": [
    "mvcs = pd.read_csv(\"../Data/NASS_CISS-2000_2019-unfiltered.csv\")\n",
    "mvcs_imp = pd.read_csv(\"../Data/NASS_CISS-2000_2019-imputated.csv\")"
   ]
  },
  {
   "cell_type": "code",
   "execution_count": 3,
   "metadata": {},
   "outputs": [],
   "source": [
    "mvcs_2000_2009 = mvcs[mvcs.year<=2009]\n",
    "mvcs_2010_2019 = mvcs[mvcs.year>=2010]"
   ]
  },
  {
   "cell_type": "code",
   "execution_count": 4,
   "metadata": {},
   "outputs": [
    {
     "data": {
      "text/plain": [
       "Index(['age', 'prop_restraint', 'any_restraint', 'abdeply', 'dvtotal',\n",
       "       'splimit', 'multicoll', 'pdof_nearside', 'rolled', 'roll_turns',\n",
       "       'int18', 'int12occ', 'ejection', 'other_death', 'entrapment', 'casewgt',\n",
       "       'dataset', 'died', 'mais', 'mais3', 'year', 'iss16'],\n",
       "      dtype='object')"
      ]
     },
     "execution_count": 4,
     "metadata": {},
     "output_type": "execute_result"
    }
   ],
   "source": [
    "mvcs.columns"
   ]
  },
  {
   "cell_type": "code",
   "execution_count": 5,
   "metadata": {},
   "outputs": [],
   "source": [
    "# variables to report\n",
    "variables = ['age','int12occ','int18','ejection','other_death','any_restraint',\n",
    "             'splimit','abdeply','multicoll','rolled','entrapment','iss16']"
   ]
  },
  {
   "cell_type": "markdown",
   "metadata": {},
   "source": [
    "## Functions to descibe data"
   ]
  },
  {
   "cell_type": "code",
   "execution_count": 6,
   "metadata": {},
   "outputs": [],
   "source": [
    "def stat_continuous_median(df, variable, sigdig=2, quartiles=True):\n",
    "    '''\n",
    "    Creates text with median and IQR for continuous variables.\n",
    "    Inputs:\n",
    "        df - dataframe with data\n",
    "        variable - column to analyze\n",
    "        sigdig - number of significant digits\n",
    "    Output:\n",
    "        Returns text with results\n",
    "    '''\n",
    "    # extract data\n",
    "    data = df[variable]\n",
    "    \n",
    "    # calc stats\n",
    "    median = data.median()\n",
    "    \n",
    "    # if using quartiles\n",
    "    if quartiles:\n",
    "        IQR = data.quantile([0.25,0.75])\n",
    "        \n",
    "        # convert to text\n",
    "        text = str(round(median, sigdig)) +\" (\" + str(round(IQR[0.25], sigdig)) +\"-\" + str(round(IQR[0.75], sigdig)) + \")\"\n",
    "    \n",
    "    # else use range\n",
    "    else:\n",
    "        range_min = min(data)\n",
    "        range_max = max(data)\n",
    "        \n",
    "        # convert to text\n",
    "        text = str(round(median, sigdig)) +\" (\" + str(round(range_min, sigdig)) +\"-\" + str(round(range_max, sigdig)) + \")\"\n",
    "    \n",
    "    return text"
   ]
  },
  {
   "cell_type": "code",
   "execution_count": 7,
   "metadata": {},
   "outputs": [],
   "source": [
    "def stat_continuous_mean(df, variable, sigdig=2):\n",
    "    '''\n",
    "    Creates text with mean and standard deviation for continuous variables.\n",
    "    Inputs:\n",
    "        df - dataframe with data\n",
    "        variable - column to analyze\n",
    "        sigdig - number of significant digits\n",
    "    Output:\n",
    "        Returns text with results\n",
    "    '''\n",
    "    # extract data\n",
    "    data = df[variable]\n",
    "    \n",
    "    # calc stats\n",
    "    mean = data.mean()\n",
    "    sd = np.std(data)\n",
    "    \n",
    "    # convert to text\n",
    "    text = str(round(mean, sigdig)) +\" (\" + str(round(sd, sigdig)) + \")\"\n",
    "    \n",
    "    return text"
   ]
  },
  {
   "cell_type": "code",
   "execution_count": 8,
   "metadata": {},
   "outputs": [],
   "source": [
    "def stat_binary(df, variable, sigdig=2):\n",
    "    '''\n",
    "    Creates text with median and IQR for binary variables.\n",
    "    Inputs:\n",
    "        df - dataframe with data\n",
    "        variable - column to analyze\n",
    "        sigdig - number of significant digits\n",
    "    Output:\n",
    "        Returns text with results\n",
    "    '''\n",
    "    # extract data\n",
    "    data = df[variable]\n",
    "    \n",
    "    # calc stats\n",
    "    pos_count = data[data==1].count()\n",
    "    pos_perc = pos_count / data.count()\n",
    "    \n",
    "    # convert to text\n",
    "    text = str(round(pos_count, sigdig)) +\" (\" + str(round(pos_perc*100, sigdig)) + \"%)\"\n",
    "    \n",
    "    return text"
   ]
  },
  {
   "cell_type": "code",
   "execution_count": 9,
   "metadata": {},
   "outputs": [],
   "source": [
    "def analyze_col(variable, sigdig=2, quartiles=True):\n",
    "    '''\n",
    "    Creates text results for a column of data.  This determines if the data\n",
    "     is binary or continuous, then gets the results for all patients and \n",
    "     those with and without severe injury.\n",
    "    Inputs:\n",
    "        variable - column to analyze\n",
    "        sigdig - number of significant digits\n",
    "    Output:\n",
    "        Returns list of strings with results [variable, total, non-severe, severe]\n",
    "    '''\n",
    "    results = [variable]\n",
    "       \n",
    "    # check if binary    \n",
    "    if all([i in [0,1] for i in mvcs_imp[variable].unique()]):\n",
    "        results += [stat_binary(mvcs, variable, sigdig)]\n",
    "        results += [stat_binary(mvcs_2000_2009, variable, sigdig)]\n",
    "        results += [stat_binary(mvcs_2010_2019, variable, sigdig)]\n",
    "        results += [stat_binary(mvcs_imp, variable, sigdig)]\n",
    "        \n",
    "    else:\n",
    "        results += [stat_continuous_median(mvcs, variable, sigdig, quartiles)]\n",
    "        results += [stat_continuous_median(mvcs_2000_2009, variable, sigdig, quartiles)]\n",
    "        results += [stat_continuous_median(mvcs_2010_2019, variable, sigdig, quartiles)]\n",
    "        results += [stat_continuous_median(mvcs_imp, variable, sigdig, quartiles)]\n",
    "        \n",
    "    return results"
   ]
  },
  {
   "cell_type": "code",
   "execution_count": 10,
   "metadata": {},
   "outputs": [],
   "source": [
    "def analyze_missing(variable, sigdig):\n",
    "    \n",
    "    results = [\"missing \" + variable]\n",
    "    \n",
    "    # find missing\n",
    "    df = mvcs\n",
    "    results += [str(len(df[df[variable].isna()])) +\" (\" + str(round(len(df[df[variable].isna()])/len(df)*100, sigdig)) + \"%)\"]\n",
    "    df = mvcs_2000_2009\n",
    "    results += [str(len(df[df[variable].isna()])) +\" (\" + str(round(len(df[df[variable].isna()])/len(df)*100, sigdig)) + \"%)\"]\n",
    "    df = mvcs_2010_2019\n",
    "    results += [str(len(df[df[variable].isna()])) +\" (\" + str(round(len(df[df[variable].isna()])/len(df)*100, sigdig)) + \"%)\"]\n",
    "    results += [\"n/a\"]\n",
    "   \n",
    "    return results"
   ]
  },
  {
   "cell_type": "code",
   "execution_count": 11,
   "metadata": {},
   "outputs": [
    {
     "data": {
      "text/plain": [
       "['missing age', '2432 (1.6%)', '1877 (1.8%)', '555 (1.1%)', 'n/a']"
      ]
     },
     "execution_count": 11,
     "metadata": {},
     "output_type": "execute_result"
    }
   ],
   "source": [
    "analyze_missing('age',1) "
   ]
  },
  {
   "cell_type": "markdown",
   "metadata": {},
   "source": [
    "## Describe occupants - CISS + NASS"
   ]
  },
  {
   "cell_type": "code",
   "execution_count": 16,
   "metadata": {},
   "outputs": [
    {
     "data": {
      "text/html": [
       "<div>\n",
       "<style scoped>\n",
       "    .dataframe tbody tr th:only-of-type {\n",
       "        vertical-align: middle;\n",
       "    }\n",
       "\n",
       "    .dataframe tbody tr th {\n",
       "        vertical-align: top;\n",
       "    }\n",
       "\n",
       "    .dataframe thead th {\n",
       "        text-align: right;\n",
       "    }\n",
       "</style>\n",
       "<table border=\"1\" class=\"dataframe\">\n",
       "  <thead>\n",
       "    <tr style=\"text-align: right;\">\n",
       "      <th></th>\n",
       "      <th>Total</th>\n",
       "      <th>2000-2009</th>\n",
       "      <th>2010-2019</th>\n",
       "      <th>Imputed</th>\n",
       "    </tr>\n",
       "    <tr>\n",
       "      <th>Variable</th>\n",
       "      <th></th>\n",
       "      <th></th>\n",
       "      <th></th>\n",
       "      <th></th>\n",
       "    </tr>\n",
       "  </thead>\n",
       "  <tbody>\n",
       "    <tr>\n",
       "      <th>N</th>\n",
       "      <td>150683</td>\n",
       "      <td>101919</td>\n",
       "      <td>48764</td>\n",
       "      <td>753415</td>\n",
       "    </tr>\n",
       "    <tr>\n",
       "      <th>age</th>\n",
       "      <td>30.0 (20.0-46.0)</td>\n",
       "      <td>29.0 (19.0-45.0)</td>\n",
       "      <td>32.0 (22.0-50.0)</td>\n",
       "      <td>30.0 (20.0-46.0)</td>\n",
       "    </tr>\n",
       "    <tr>\n",
       "      <th>missing age</th>\n",
       "      <td>2432 (1.6%)</td>\n",
       "      <td>1877 (1.8%)</td>\n",
       "      <td>555 (1.1%)</td>\n",
       "      <td>n/a</td>\n",
       "    </tr>\n",
       "    <tr>\n",
       "      <th>int12occ</th>\n",
       "      <td>6994 (5.1%)</td>\n",
       "      <td>5206 (5.1%)</td>\n",
       "      <td>1788 (5.2%)</td>\n",
       "      <td>35045 (4.7%)</td>\n",
       "    </tr>\n",
       "    <tr>\n",
       "      <th>missing int12occ</th>\n",
       "      <td>14208 (9.4%)</td>\n",
       "      <td>0 (0.0%)</td>\n",
       "      <td>14208 (29.1%)</td>\n",
       "      <td>n/a</td>\n",
       "    </tr>\n",
       "    <tr>\n",
       "      <th>int18</th>\n",
       "      <td>7973 (5.7%)</td>\n",
       "      <td>5166 (5.1%)</td>\n",
       "      <td>2807 (7.5%)</td>\n",
       "      <td>39875 (5.3%)</td>\n",
       "    </tr>\n",
       "    <tr>\n",
       "      <th>missing int18</th>\n",
       "      <td>11550 (7.7%)</td>\n",
       "      <td>0 (0.0%)</td>\n",
       "      <td>11550 (23.7%)</td>\n",
       "      <td>n/a</td>\n",
       "    </tr>\n",
       "    <tr>\n",
       "      <th>ejection</th>\n",
       "      <td>5885 (3.9%)</td>\n",
       "      <td>4079 (4.0%)</td>\n",
       "      <td>1806 (3.7%)</td>\n",
       "      <td>29425 (3.9%)</td>\n",
       "    </tr>\n",
       "    <tr>\n",
       "      <th>missing ejection</th>\n",
       "      <td>0 (0.0%)</td>\n",
       "      <td>0 (0.0%)</td>\n",
       "      <td>0 (0.0%)</td>\n",
       "      <td>n/a</td>\n",
       "    </tr>\n",
       "    <tr>\n",
       "      <th>other_death</th>\n",
       "      <td>5644 (3.9%)</td>\n",
       "      <td>3410 (3.5%)</td>\n",
       "      <td>2234 (4.7%)</td>\n",
       "      <td>28220 (3.7%)</td>\n",
       "    </tr>\n",
       "    <tr>\n",
       "      <th>missing other_death</th>\n",
       "      <td>4220 (2.8%)</td>\n",
       "      <td>3401 (3.3%)</td>\n",
       "      <td>819 (1.7%)</td>\n",
       "      <td>n/a</td>\n",
       "    </tr>\n",
       "    <tr>\n",
       "      <th>any_restraint</th>\n",
       "      <td>101172 (75.2%)</td>\n",
       "      <td>66527 (74.5%)</td>\n",
       "      <td>34645 (76.7%)</td>\n",
       "      <td>583170 (77.4%)</td>\n",
       "    </tr>\n",
       "    <tr>\n",
       "      <th>missing any_restraint</th>\n",
       "      <td>16147 (10.7%)</td>\n",
       "      <td>12572 (12.3%)</td>\n",
       "      <td>3575 (7.3%)</td>\n",
       "      <td>n/a</td>\n",
       "    </tr>\n",
       "    <tr>\n",
       "      <th>splimit</th>\n",
       "      <td>64.0 (56.0-89.0)</td>\n",
       "      <td>64.0 (56.0-80.0)</td>\n",
       "      <td>72.0 (56.0-89.0)</td>\n",
       "      <td>64.0 (56.0-89.0)</td>\n",
       "    </tr>\n",
       "    <tr>\n",
       "      <th>missing splimit</th>\n",
       "      <td>2970 (2.0%)</td>\n",
       "      <td>1160 (1.1%)</td>\n",
       "      <td>1810 (3.7%)</td>\n",
       "      <td>n/a</td>\n",
       "    </tr>\n",
       "    <tr>\n",
       "      <th>abdeply</th>\n",
       "      <td>62437 (41.4%)</td>\n",
       "      <td>36864 (36.2%)</td>\n",
       "      <td>25573 (52.4%)</td>\n",
       "      <td>312185 (41.4%)</td>\n",
       "    </tr>\n",
       "    <tr>\n",
       "      <th>missing abdeply</th>\n",
       "      <td>0 (0.0%)</td>\n",
       "      <td>0 (0.0%)</td>\n",
       "      <td>0 (0.0%)</td>\n",
       "      <td>n/a</td>\n",
       "    </tr>\n",
       "    <tr>\n",
       "      <th>multicoll</th>\n",
       "      <td>55499 (37.2%)</td>\n",
       "      <td>34753 (34.1%)</td>\n",
       "      <td>20746 (43.8%)</td>\n",
       "      <td>277575 (36.8%)</td>\n",
       "    </tr>\n",
       "    <tr>\n",
       "      <th>missing multicoll</th>\n",
       "      <td>1406 (0.9%)</td>\n",
       "      <td>0 (0.0%)</td>\n",
       "      <td>1406 (2.9%)</td>\n",
       "      <td>n/a</td>\n",
       "    </tr>\n",
       "    <tr>\n",
       "      <th>rolled</th>\n",
       "      <td>19509 (13.2%)</td>\n",
       "      <td>11738 (11.7%)</td>\n",
       "      <td>7771 (16.5%)</td>\n",
       "      <td>99305 (13.2%)</td>\n",
       "    </tr>\n",
       "    <tr>\n",
       "      <th>missing rolled</th>\n",
       "      <td>3131 (2.1%)</td>\n",
       "      <td>1480 (1.5%)</td>\n",
       "      <td>1651 (3.4%)</td>\n",
       "      <td>n/a</td>\n",
       "    </tr>\n",
       "    <tr>\n",
       "      <th>entrapment</th>\n",
       "      <td>8174 (5.8%)</td>\n",
       "      <td>6184 (6.6%)</td>\n",
       "      <td>1990 (4.3%)</td>\n",
       "      <td>41625 (5.5%)</td>\n",
       "    </tr>\n",
       "    <tr>\n",
       "      <th>missing entrapment</th>\n",
       "      <td>10073 (6.7%)</td>\n",
       "      <td>7826 (7.7%)</td>\n",
       "      <td>2247 (4.6%)</td>\n",
       "      <td>n/a</td>\n",
       "    </tr>\n",
       "    <tr>\n",
       "      <th>iss16</th>\n",
       "      <td>14218 (9.4%)</td>\n",
       "      <td>9229 (9.1%)</td>\n",
       "      <td>4989 (10.2%)</td>\n",
       "      <td>71090 (9.4%)</td>\n",
       "    </tr>\n",
       "    <tr>\n",
       "      <th>missing iss16</th>\n",
       "      <td>0 (0.0%)</td>\n",
       "      <td>0 (0.0%)</td>\n",
       "      <td>0 (0.0%)</td>\n",
       "      <td>n/a</td>\n",
       "    </tr>\n",
       "  </tbody>\n",
       "</table>\n",
       "</div>"
      ],
      "text/plain": [
       "                                  Total         2000-2009         2010-2019  \\\n",
       "Variable                                                                      \n",
       "N                                150683            101919             48764   \n",
       "age                    30.0 (20.0-46.0)  29.0 (19.0-45.0)  32.0 (22.0-50.0)   \n",
       "missing age                 2432 (1.6%)       1877 (1.8%)        555 (1.1%)   \n",
       "int12occ                    6994 (5.1%)       5206 (5.1%)       1788 (5.2%)   \n",
       "missing int12occ           14208 (9.4%)          0 (0.0%)     14208 (29.1%)   \n",
       "int18                       7973 (5.7%)       5166 (5.1%)       2807 (7.5%)   \n",
       "missing int18              11550 (7.7%)          0 (0.0%)     11550 (23.7%)   \n",
       "ejection                    5885 (3.9%)       4079 (4.0%)       1806 (3.7%)   \n",
       "missing ejection               0 (0.0%)          0 (0.0%)          0 (0.0%)   \n",
       "other_death                 5644 (3.9%)       3410 (3.5%)       2234 (4.7%)   \n",
       "missing other_death         4220 (2.8%)       3401 (3.3%)        819 (1.7%)   \n",
       "any_restraint            101172 (75.2%)     66527 (74.5%)     34645 (76.7%)   \n",
       "missing any_restraint     16147 (10.7%)     12572 (12.3%)       3575 (7.3%)   \n",
       "splimit                64.0 (56.0-89.0)  64.0 (56.0-80.0)  72.0 (56.0-89.0)   \n",
       "missing splimit             2970 (2.0%)       1160 (1.1%)       1810 (3.7%)   \n",
       "abdeply                   62437 (41.4%)     36864 (36.2%)     25573 (52.4%)   \n",
       "missing abdeply                0 (0.0%)          0 (0.0%)          0 (0.0%)   \n",
       "multicoll                 55499 (37.2%)     34753 (34.1%)     20746 (43.8%)   \n",
       "missing multicoll           1406 (0.9%)          0 (0.0%)       1406 (2.9%)   \n",
       "rolled                    19509 (13.2%)     11738 (11.7%)      7771 (16.5%)   \n",
       "missing rolled              3131 (2.1%)       1480 (1.5%)       1651 (3.4%)   \n",
       "entrapment                  8174 (5.8%)       6184 (6.6%)       1990 (4.3%)   \n",
       "missing entrapment         10073 (6.7%)       7826 (7.7%)       2247 (4.6%)   \n",
       "iss16                      14218 (9.4%)       9229 (9.1%)      4989 (10.2%)   \n",
       "missing iss16                  0 (0.0%)          0 (0.0%)          0 (0.0%)   \n",
       "\n",
       "                                Imputed  \n",
       "Variable                                 \n",
       "N                                753415  \n",
       "age                    30.0 (20.0-46.0)  \n",
       "missing age                         n/a  \n",
       "int12occ                   35045 (4.7%)  \n",
       "missing int12occ                    n/a  \n",
       "int18                      39875 (5.3%)  \n",
       "missing int18                       n/a  \n",
       "ejection                   29425 (3.9%)  \n",
       "missing ejection                    n/a  \n",
       "other_death                28220 (3.7%)  \n",
       "missing other_death                 n/a  \n",
       "any_restraint            583170 (77.4%)  \n",
       "missing any_restraint               n/a  \n",
       "splimit                64.0 (56.0-89.0)  \n",
       "missing splimit                     n/a  \n",
       "abdeply                  312185 (41.4%)  \n",
       "missing abdeply                     n/a  \n",
       "multicoll                277575 (36.8%)  \n",
       "missing multicoll                   n/a  \n",
       "rolled                    99305 (13.2%)  \n",
       "missing rolled                      n/a  \n",
       "entrapment                 41625 (5.5%)  \n",
       "missing entrapment                  n/a  \n",
       "iss16                      71090 (9.4%)  \n",
       "missing iss16                       n/a  "
      ]
     },
     "execution_count": 16,
     "metadata": {},
     "output_type": "execute_result"
    }
   ],
   "source": [
    "# empty table for results\n",
    "table = pd.DataFrame(columns=['Variable','Total','2000-2009','2010-2019','Imputed'])\n",
    "\n",
    "table = table.append(pd.Series([\"N\", len(mvcs), len(mvcs_2000_2009), len(mvcs_2010_2019), len(mvcs_imp)],index=table.columns), ignore_index=True)\n",
    "\n",
    "# loop through all variables\n",
    "for var in variables:\n",
    "    \n",
    "    # get results for particular variable\n",
    "    result = analyze_col(var, 1, quartiles=True)\n",
    "    \n",
    "    # add results to table\n",
    "    table = table.append(pd.Series(result,index=table.columns),ignore_index=True)\n",
    "    \n",
    "    # get missingness\n",
    "    missing = analyze_missing(var,1)\n",
    "    \n",
    "    # add percent missing\n",
    "    table = table.append(pd.Series(missing, index=table.columns),ignore_index=True)\n",
    "\n",
    "# print table\n",
    "table.set_index('Variable')"
   ]
  },
  {
   "cell_type": "code",
   "execution_count": 14,
   "metadata": {},
   "outputs": [
    {
     "data": {
      "text/plain": [
       "array([[<matplotlib.axes._subplots.AxesSubplot object at 0x7f2c30ecc978>]],\n",
       "      dtype=object)"
      ]
     },
     "execution_count": 14,
     "metadata": {},
     "output_type": "execute_result"
    },
    {
     "data": {
      "image/png": "[encoded data removed]",
      "text/plain": [
       "<Figure size 432x288 with 1 Axes>"
      ]
     },
     "metadata": {},
     "output_type": "display_data"
    }
   ],
   "source": [
    "mvcs.hist(column='splimit')"
   ]
  },
  {
   "cell_type": "code",
   "execution_count": 15,
   "metadata": {},
   "outputs": [
    {
     "data": {
      "text/plain": [
       "0.00      0.0\n",
       "0.25     56.0\n",
       "0.50     64.0\n",
       "0.75     89.0\n",
       "1.00    129.0\n",
       "Name: splimit, dtype: float64"
      ]
     },
     "execution_count": 15,
     "metadata": {},
     "output_type": "execute_result"
    }
   ],
   "source": [
    "mvcs.splimit.quantile([0,0.25,0.5,0.75,1.0])"
   ]
  },
  {
   "cell_type": "code",
   "execution_count": null,
   "metadata": {},
   "outputs": [],
   "source": []
  }
 ],
 "metadata": {
  "kernelspec": {
   "display_name": "Python 3",
   "language": "python",
   "name": "python3"
  },
  "language_info": {
   "codemirror_mode": {
    "name": "ipython",
    "version": 3
   },
   "file_extension": ".py",
   "mimetype": "text/x-python",
   "name": "python",
   "nbconvert_exporter": "python",
   "pygments_lexer": "ipython3",
   "version": "3.6.7"
  }
 },
 "nbformat": 4,
 "nbformat_minor": 4
}
